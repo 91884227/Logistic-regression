{
 "cells": [
  {
   "cell_type": "code",
   "execution_count": 41,
   "metadata": {},
   "outputs": [],
   "source": [
    "import numpy as np"
   ]
  },
  {
   "cell_type": "code",
   "execution_count": 42,
   "metadata": {},
   "outputs": [],
   "source": [
    "X = np.array([1, 0, 1, 0, 1, 1, 0, 1, 0, 1])\n",
    "head_num = sum(X==1)\n",
    "tail_num = sum(X==0)"
   ]
  },
  {
   "cell_type": "code",
   "execution_count": 43,
   "metadata": {},
   "outputs": [
    {
     "data": {
      "text/plain": [
       "4"
      ]
     },
     "execution_count": 43,
     "metadata": {},
     "output_type": "execute_result"
    }
   ],
   "source": [
    "tail_num"
   ]
  },
  {
   "cell_type": "code",
   "execution_count": 44,
   "metadata": {},
   "outputs": [],
   "source": [
    "lamda = 0.5\n",
    "p0 = 0.8\n",
    "p1 = 0.5"
   ]
  },
  {
   "cell_type": "code",
   "execution_count": 45,
   "metadata": {},
   "outputs": [
    {
     "name": "stdout",
     "output_type": "stream",
     "text": [
      "\n",
      "i 0\n",
      "0.6153846153846154\n",
      "0.28571428571428564\n",
      " lamda 0.48351648351648346\n",
      "p0 0.7636363636363638\n",
      "p1 0.4468085106382978\n",
      "\n",
      "i 1\n",
      "0.6153846153846154\n",
      "0.2857142857142855\n",
      " lamda 0.4835164835164834\n",
      "p0 0.7636363636363639\n",
      "p1 0.44680851063829774\n",
      "\n",
      "i 2\n",
      "0.6153846153846153\n",
      "0.28571428571428537\n",
      " lamda 0.4835164835164833\n",
      "p0 0.7636363636363638\n",
      "p1 0.44680851063829785\n",
      "\n",
      "i 3\n",
      "0.6153846153846153\n",
      "0.2857142857142855\n",
      " lamda 0.4835164835164834\n",
      "p0 0.7636363636363637\n",
      "p1 0.4468085106382979\n",
      "\n",
      "i 4\n",
      "0.6153846153846153\n",
      "0.2857142857142856\n",
      " lamda 0.4835164835164834\n",
      "p0 0.7636363636363637\n",
      "p1 0.4468085106382979\n",
      "\n",
      "i 5\n",
      "0.6153846153846153\n",
      "0.2857142857142856\n",
      " lamda 0.4835164835164834\n",
      "p0 0.7636363636363637\n",
      "p1 0.4468085106382979\n",
      "\n",
      "i 6\n",
      "0.6153846153846153\n",
      "0.2857142857142856\n",
      " lamda 0.4835164835164834\n",
      "p0 0.7636363636363637\n",
      "p1 0.4468085106382979\n",
      "\n",
      "i 7\n",
      "0.6153846153846153\n",
      "0.2857142857142856\n",
      " lamda 0.4835164835164834\n",
      "p0 0.7636363636363637\n",
      "p1 0.4468085106382979\n",
      "\n",
      "i 8\n",
      "0.6153846153846153\n",
      "0.2857142857142856\n",
      " lamda 0.4835164835164834\n",
      "p0 0.7636363636363637\n",
      "p1 0.4468085106382979\n",
      "\n",
      "i 9\n",
      "0.6153846153846153\n",
      "0.2857142857142856\n",
      " lamda 0.4835164835164834\n",
      "p0 0.7636363636363637\n",
      "p1 0.4468085106382979\n"
     ]
    }
   ],
   "source": [
    "for i in range(10):\n",
    "    print(\"\\ni\", i)\n",
    "    w0 = lamda*p0 / ( lamda*p0 + (1-lamda)*p1 )\n",
    "    print(w0)\n",
    "    w1 = lamda*(1-p0) / ( lamda*(1-p0) + (1-lamda)*(1-p1) )\n",
    "    print(w1)\n",
    "    lamda = (head_num*w0 + tail_num*w1)/10\n",
    "    print(\" lamda\", lamda)\n",
    "    p0 = head_num*w0 /(head_num*w0 + tail_num*w1)\n",
    "    print(\"p0\", p0)\n",
    "    p1 = head_num*(1-w0) /(head_num*(1-w0) + tail_num*(1-w1))\n",
    "    print(\"p1\", p1)"
   ]
  },
  {
   "cell_type": "code",
   "execution_count": 32,
   "metadata": {},
   "outputs": [
    {
     "data": {
      "text/plain": [
       "0.5"
      ]
     },
     "execution_count": 32,
     "metadata": {},
     "output_type": "execute_result"
    }
   ],
   "source": [
    "lamda*p0 / ( lamda*p0 + (1-lamda)*p1 )"
   ]
  },
  {
   "cell_type": "code",
   "execution_count": 13,
   "metadata": {},
   "outputs": [
    {
     "data": {
      "text/plain": [
       "0.24324324324324342"
      ]
     },
     "execution_count": 13,
     "metadata": {},
     "output_type": "execute_result"
    }
   ],
   "source": [
    "lamda*(1-p0) / ( lamda*(1-p0) + (1-lamda)*(1-p1) )"
   ]
  },
  {
   "cell_type": "code",
   "execution_count": 14,
   "metadata": {},
   "outputs": [
    {
     "data": {
      "text/plain": [
       "0.29729729729729737"
      ]
     },
     "execution_count": 14,
     "metadata": {},
     "output_type": "execute_result"
    }
   ],
   "source": [
    "(head_num*w0 + tail_num*w1)/10"
   ]
  },
  {
   "cell_type": "code",
   "execution_count": 8,
   "metadata": {},
   "outputs": [
    {
     "name": "stdout",
     "output_type": "stream",
     "text": [
      " lamda 0.29729729729729737\n"
     ]
    }
   ],
   "source": [
    "lamda = (head_num*w0 + tail_num*w1)/10\n",
    "print(\" lamda\", lamda)"
   ]
  },
  {
   "cell_type": "code",
   "execution_count": 9,
   "metadata": {},
   "outputs": [
    {
     "name": "stdout",
     "output_type": "stream",
     "text": [
      "p0 0.6727272727272726\n"
     ]
    }
   ],
   "source": [
    "p0 = head_num*w0 /(head_num*w0 + tail_num*w1)\n",
    "print(\"p0\", p0)"
   ]
  },
  {
   "cell_type": "code",
   "execution_count": 10,
   "metadata": {},
   "outputs": [
    {
     "name": "stdout",
     "output_type": "stream",
     "text": [
      "p1 0.5692307692307693\n"
     ]
    }
   ],
   "source": [
    "p1 = head_num*(1-w0) /(head_num*(1-w0) + tail_num*(1-w1))\n",
    "print(\"p1\", p1)"
   ]
  },
  {
   "cell_type": "code",
   "execution_count": null,
   "metadata": {},
   "outputs": [],
   "source": []
  },
  {
   "cell_type": "code",
   "execution_count": null,
   "metadata": {},
   "outputs": [],
   "source": []
  },
  {
   "cell_type": "code",
   "execution_count": null,
   "metadata": {},
   "outputs": [],
   "source": []
  }
 ],
 "metadata": {
  "kernelspec": {
   "display_name": "Python 3",
   "language": "python",
   "name": "python3"
  },
  "language_info": {
   "codemirror_mode": {
    "name": "ipython",
    "version": 3
   },
   "file_extension": ".py",
   "mimetype": "text/x-python",
   "name": "python",
   "nbconvert_exporter": "python",
   "pygments_lexer": "ipython3",
   "version": "3.6.4"
  }
 },
 "nbformat": 4,
 "nbformat_minor": 2
}
